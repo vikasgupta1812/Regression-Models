{
 "cells": [
  {
   "cell_type": "markdown",
   "metadata": {},
   "source": [
    "Week#1 \n",
    "========================================================\n",
    "Galton's Data"
   ]
  },
  {
   "cell_type": "code",
   "execution_count": null,
   "metadata": {},
   "outputs": [],
   "source": [
    "%%R\n",
    "library(UsingR)\n",
    "data(galton)"
   ]
  },
  {
   "cell_type": "code",
   "execution_count": null,
   "metadata": {},
   "outputs": [],
   "source": [
    "%%R\n",
    "par(mfrow = c(1,2))\n",
    "hist(galton$child, col= \"blue\", breaks = 100)\n",
    "hist(galton$parent, col= \"blue\", breaks = 100)"
   ]
  },
  {
   "cell_type": "markdown",
   "metadata": {},
   "source": [
    "Finding the middle via Least Squares"
   ]
  },
  {
   "cell_type": "code",
   "execution_count": null,
   "metadata": {},
   "outputs": [],
   "source": [
    "%%R\n",
    "library(manipulate)\n",
    "myHist  <- function(mu) {\n",
    "  hist(galton$child, col = \"blue\", breaks = 100)\n",
    "  lines(c(mu, mu), c(0, 150), col = \"red\", lwd = 5)\n",
    "  mse  <- mean((galton$child - mu)^2)\n",
    "  text(63, 150, paste(\"mu  =\", mu))\n",
    "  text(63, 140, paste(\"MSE  =\", round(mse, 2)))\n",
    "}\n",
    "\n",
    "manipulate(myHist(mu), mu = slider(62, 74, step = 0.5))"
   ]
  },
  {
   "cell_type": "code",
   "execution_count": null,
   "metadata": {},
   "outputs": [],
   "source": [
    "%%R\n",
    "par(mfrow=c(1,1))\n",
    "hist(galton$child, col = \"blue\", breaks = 100)\n",
    "meanChild  <- mean(galton$child)\n",
    "lines(rep(meanChild, 100), seq(0,150, length=100),col=\"red\",lwd=5)"
   ]
  }
 ],
 "metadata": {},
 "nbformat": 4,
 "nbformat_minor": 2
}
