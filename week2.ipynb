{
 "cells": [
  {
   "cell_type": "markdown",
   "metadata": {},
   "source": [
    "Regression Models: Week#2 \n",
    "========================================================\n",
    "Example # 2: Linear Regression Model on Diamonds dataset\n",
    "\n",
    "Data is diamond prices (Signapore dollars) and diamond weight in carats (standard measure of diamond mass, 0.2 g)."
   ]
  },
  {
   "cell_type": "code",
   "execution_count": null,
   "metadata": {},
   "outputs": [],
   "source": [
    "%%R\n",
    "#ls()\n",
    "#rm(list = ls())"
   ]
  },
  {
   "cell_type": "code",
   "execution_count": null,
   "metadata": {},
   "outputs": [],
   "source": [
    "%%R\n",
    "library(UsingR); data(diamond)\n",
    "plot(diamond$carat, diamond$price,\n",
    "     xlab = \"Mass (carats)\",\n",
    "     ylab = \"Price (SIN $)\",\n",
    "     bg   = \"lightblue\",\n",
    "     col  = \"black\", cex = 1.1, pch = 21, frame = FALSE)\n",
    "\n",
    "abline(lm(price ~ carat, data = diamond), lwd = 2)"
   ]
  },
  {
   "cell_type": "markdown",
   "metadata": {},
   "source": [
    "You can also embed plots, for example:\n",
    "Fitting the linear regression model."
   ]
  },
  {
   "cell_type": "code",
   "execution_count": null,
   "metadata": {},
   "outputs": [],
   "source": [
    "%%R\n",
    "fit  <- lm(price ~ carat, data = diamond)\n",
    "coef(fit)"
   ]
  },
  {
   "cell_type": "markdown",
   "metadata": {},
   "source": [
    "* We estimate an expected 3721.02 (SIN) dollar increase in price for every carat increase in mass of diamond.\n",
    "\n",
    "* The intercept -259.63 is the expected price of a 0 carat diamond.\n",
    "\n",
    "##Getting a more interpretable intercept"
   ]
  },
  {
   "cell_type": "code",
   "execution_count": null,
   "metadata": {},
   "outputs": [],
   "source": [
    "%%R\n",
    "fit2  <- lm(price ~ I(carat - mean(carat)), data = diamond)\n",
    "coef(fit2)"
   ]
  },
  {
   "cell_type": "code",
   "execution_count": null,
   "metadata": {},
   "outputs": [],
   "source": [
    "%%R\n",
    "help(package=\"graphics\")"
   ]
  },
  {
   "cell_type": "code",
   "execution_count": null,
   "metadata": {},
   "outputs": [],
   "source": [
    "%%R\n",
    "names(par())"
   ]
  },
  {
   "cell_type": "code",
   "execution_count": null,
   "metadata": {},
   "outputs": [],
   "source": [
    "%%R\n",
    "curve(5*x^2)"
   ]
  },
  {
   "cell_type": "code",
   "execution_count": null,
   "metadata": {},
   "outputs": [],
   "source": [
    "%%R\n",
    "curve(5*x^3, add=T)"
   ]
  },
  {
   "cell_type": "code",
   "execution_count": null,
   "metadata": {},
   "outputs": [],
   "source": [
    "%%R\n",
    "curve(5*x^5, add=T)"
   ]
  },
  {
   "cell_type": "code",
   "execution_count": null,
   "metadata": {},
   "outputs": [],
   "source": [
    "%%R\n",
    "?curve"
   ]
  },
  {
   "cell_type": "code",
   "execution_count": null,
   "metadata": {},
   "outputs": [],
   "source": [
    "%%R\n",
    "example(arrows)"
   ]
  }
 ],
 "metadata": {},
 "nbformat": 4,
 "nbformat_minor": 2
}
